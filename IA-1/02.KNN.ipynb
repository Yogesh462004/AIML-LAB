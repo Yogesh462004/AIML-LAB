{
 "cells": [
  {
   "cell_type": "markdown",
   "id": "3765dc83-2dba-4761-897e-bde92d85a980",
   "metadata": {},
   "source": [
    "## KNN"
   ]
  },
  {
   "cell_type": "markdown",
   "id": "a6114762-2dd4-4b00-95a0-8e166b7296a1",
   "metadata": {},
   "source": [
    "<H3>Manual</H3>"
   ]
  },
  {
   "cell_type": "code",
   "execution_count": 6,
   "id": "6c19e5dd-2a20-4d09-866f-44d9b2bcf165",
   "metadata": {},
   "outputs": [
    {
     "name": "stdout",
     "output_type": "stream",
     "text": [
      "Test sample: [5.2 3.1]\n",
      "Predicted Class: Versicolor\n"
     ]
    }
   ],
   "source": [
    "import pandas as pd\n",
    "import numpy as np\n",
    "\n",
    "# Load dataset\n",
    "df = pd.read_csv(\"iris.csv\")\n",
    "\n",
    "# New data point to classify\n",
    "unknown = np.array([5.2, 3.1])\n",
    "\n",
    "# Number of neighbors\n",
    "k = 12\n",
    "\n",
    "# Extract features and compute distance\n",
    "data = df[[\"SepalLength\", \"SepalWidth\"]]\n",
    "distances = np.sqrt(((data - unknown) ** 2).sum(axis=1))\n",
    "\n",
    "# Attach distances to the dataframe\n",
    "df[\"Distance\"] = distances\n",
    "\n",
    "# Find the k nearest neighbors and their species\n",
    "k_nearest = df.nsmallest(k, \"Distance\")[\"Species\"]\n",
    "\n",
    "# Predict the majority class among nearest neighbors\n",
    "prediction = k_nearest.mode()[0]\n",
    "\n",
    "# Output\n",
    "print(\"Test sample:\", unknown)\n",
    "print(f\"Predicted Class: {prediction}\")\n"
   ]
  },
  {
   "cell_type": "markdown",
   "id": "b31757e7-7481-4219-91dc-5758cddf2a0f",
   "metadata": {},
   "source": [
    "<h3>Using Library</h3>"
   ]
  },
  {
   "cell_type": "code",
   "execution_count": 5,
   "id": "3722d9f0-d843-46d3-8a39-8c97fa803d5c",
   "metadata": {},
   "outputs": [
    {
     "name": "stdout",
     "output_type": "stream",
     "text": [
      "   SepalLength  SepalWidth    Species\n",
      "0          5.3         3.7     Setosa\n",
      "1          5.1         3.8     Setosa\n",
      "2          7.2         3.0  Virginica\n",
      "3          5.4         3.4     Setosa\n",
      "4          5.1         3.3     Setosa\n",
      "Test Sample: [5.2 3.1]\n",
      "Predicted Class: Versicolor\n"
     ]
    }
   ],
   "source": [
    "import pandas as pd\n",
    "import numpy as np\n",
    "from sklearn.neighbors import KNeighborsClassifier\n",
    "from sklearn.preprocessing import LabelEncoder\n",
    "\n",
    "# Read the dataset from CSV\n",
    "df = pd.read_csv(\"iris.csv\")  # Make sure to provide the correct path to the CSV file\n",
    "\n",
    "# Display the first few rows of the dataset to verify\n",
    "print(df.head())\n",
    "\n",
    "# Features: SepalLength and SepalWidth\n",
    "X = df[[\"SepalLength\", \"SepalWidth\"]].values\n",
    "\n",
    "# Target: Species (encode labels)\n",
    "y = df[\"Species\"].values\n",
    "label_encoder = LabelEncoder()\n",
    "y_encoded = label_encoder.fit_transform(y)\n",
    "\n",
    "# Define the test sample\n",
    "test_sample = np.array([[5.2, 3.1]])\n",
    "\n",
    "# Define and train the KNN model\n",
    "k = 12\n",
    "knn = KNeighborsClassifier(n_neighbors=k)\n",
    "knn.fit(X, y_encoded)\n",
    "\n",
    "# Predict the class for the test sample\n",
    "predicted_class = knn.predict(test_sample)\n",
    "predicted_label = label_encoder.inverse_transform(predicted_class)[0]\n",
    "\n",
    "# Output\n",
    "print(\"Test Sample:\", test_sample[0])\n",
    "print(f\"Predicted Class: {predicted_label}\")\n"
   ]
  },
  {
   "cell_type": "code",
   "execution_count": null,
   "id": "4a10674e-4aae-4812-93b4-f89bed5839f9",
   "metadata": {},
   "outputs": [],
   "source": []
  }
 ],
 "metadata": {
  "kernelspec": {
   "display_name": "Python 3 (ipykernel)",
   "language": "python",
   "name": "python3"
  },
  "language_info": {
   "codemirror_mode": {
    "name": "ipython",
    "version": 3
   },
   "file_extension": ".py",
   "mimetype": "text/x-python",
   "name": "python",
   "nbconvert_exporter": "python",
   "pygments_lexer": "ipython3",
   "version": "3.12.6"
  }
 },
 "nbformat": 4,
 "nbformat_minor": 5
}
